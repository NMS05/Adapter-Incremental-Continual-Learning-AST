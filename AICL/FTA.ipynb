{
  "cells": [
    {
      "cell_type": "code",
      "execution_count": null,
      "metadata": {
        "id": "fCnIPn4ha5Wr"
      },
      "outputs": [],
      "source": [
        "import torch\n",
        "import torch.nn as nn"
      ]
    },
    {
      "cell_type": "markdown",
      "metadata": {
        "id": "-T8-v-jqtP_S"
      },
      "source": [
        "## Masking"
      ]
    },
    {
      "cell_type": "code",
      "execution_count": null,
      "metadata": {
        "colab": {
          "base_uri": "https://localhost:8080/"
        },
        "id": "R6vCy9tWcsUU",
        "outputId": "c46d3b7e-e478-45dc-9a3c-991667595f4d"
      },
      "outputs": [
        {
          "name": "stdout",
          "output_type": "stream",
          "text": [
            "tensor([[0, 0, 0, 0, 0, 1, 0, 0, 0, 0],\n",
            "        [0, 0, 0, 0, 0, 1, 0, 0, 0, 0],\n",
            "        [0, 0, 0, 0, 0, 1, 0, 0, 0, 0],\n",
            "        [0, 0, 0, 0, 0, 1, 0, 0, 0, 0],\n",
            "        [1, 1, 1, 1, 1, 1, 1, 1, 1, 1],\n",
            "        [0, 0, 0, 0, 0, 1, 0, 0, 0, 0],\n",
            "        [0, 0, 0, 0, 0, 1, 0, 0, 0, 0],\n",
            "        [0, 0, 0, 0, 0, 1, 0, 0, 0, 0],\n",
            "        [0, 0, 0, 0, 0, 1, 0, 0, 0, 0],\n",
            "        [0, 0, 0, 0, 0, 1, 0, 0, 0, 0]])\n",
            "\n",
            " tensor([[0., 0., 0., 0., 0.],\n",
            "        [0., 0., 0., 0., 0.],\n",
            "        [0., 0., 0., 0., 0.],\n",
            "        [0., 0., 0., 0., 0.],\n",
            "        [0., 0., 0., 0., 0.]])\n",
            "\n",
            " tensor([[1., 1., 1., 1., 1., 1.],\n",
            "        [1., 0., 0., 0., 0., 0.],\n",
            "        [1., 0., 0., 0., 0., 0.],\n",
            "        [1., 0., 0., 0., 0., 0.],\n",
            "        [1., 0., 0., 0., 0., 0.],\n",
            "        [1., 0., 0., 0., 0., 0.]])\n"
          ]
        }
      ],
      "source": [
        "A = torch.randint(1,9,(10,10))\n",
        "\"\"\"\n",
        "Random tensor of shape M=10 and T=10\n",
        "\n",
        "Total number of tokens N = M * T = 100\n",
        "\n",
        "Shape of Mask = N^2 = (100,100)\n",
        "\"\"\"\n",
        "\n",
        "mask = [] # without cls token\n",
        "\n",
        "index=0\n",
        "for i in range(A.shape[0]):\n",
        "  for j in range(A.shape[1]):\n",
        "\n",
        "    mask.append([])\n",
        "\n",
        "    for m in range(A.shape[0]):\n",
        "      for n in range(A.shape[1]):\n",
        "        \n",
        "        if m == i or n ==j:\n",
        "          mask[index].append(1)\n",
        "        else:\n",
        "          mask[index].append(0)\n",
        "    index += 1\n",
        "\n",
        "mask = torch.tensor(mask)\n",
        "\n",
        "# pick a random token (out of 100 tokens)\n",
        "print(mask[45].reshape(10,10))\n",
        "\n",
        "# An example mask that incorporate cls tokens\n",
        "wo_cls = torch.zeros(5,5)\n",
        "print('\\n',wo_cls)\n",
        "wth_cls = nn.functional.pad(wo_cls,(1,0,1,0),value=1.0)\n",
        "print('\\n',wth_cls)"
      ]
    }
  ],
  "metadata": {
    "colab": {
      "provenance": []
    },
    "kernelspec": {
      "display_name": "Python 3",
      "name": "python3"
    },
    "language_info": {
      "name": "python"
    }
  },
  "nbformat": 4,
  "nbformat_minor": 0
}
